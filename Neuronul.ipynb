{
 "cells": [
  {
   "cell_type": "raw",
   "metadata": {},
   "source": [
    "<script>\n",
    "  function code_toggle() {\n",
    "    if (code_shown){\n",
    "      $('div.input').hide('500');\n",
    "      $('#toggleButton').val('Show Code')\n",
    "    } else {\n",
    "      $('div.input').show('500');\n",
    "      $('#toggleButton').val('Hide Code')\n",
    "    }\n",
    "    code_shown = !code_shown\n",
    "  }\n",
    "\n",
    "  $( document ).ready(function(){\n",
    "    code_shown=false;\n",
    "    $('div.input').hide()\n",
    "  });\n",
    "</script>\n",
    "<form action=\"javascript:code_toggle()\"><input type=\"submit\" id=\"toggleButton\" value=\"Show Code\"></form>\n",
    "\n"
   ]
  },
  {
   "cell_type": "markdown",
   "metadata": {},
   "source": [
    "<h1 align=\"center\">Neuronul</h1>\n",
    "\n",
    "## Funcții de activare:\n",
    "\n",
    "### - Funcția Liniară"
   ]
  },
  {
   "cell_type": "code",
   "execution_count": 125,
   "metadata": {},
   "outputs": [],
   "source": [
    "import ipywidgets as widgets\n",
    "import numpy as np"
   ]
  },
  {
   "cell_type": "code",
   "execution_count": 296,
   "metadata": {},
   "outputs": [],
   "source": [
    "# numpy array of inputs\n",
    "# inputs = np.empty((1,1))\n",
    "\n",
    "inputs = []\n",
    "def generate_on_value_change(change):\n",
    "    with out:\n",
    "        global inputs\n",
    "        out.clear_output();\n",
    "        inputs = [tuple(( widgets.BoundedIntText(\n",
    "                value=1,\n",
    "                min=1,\n",
    "                step=1,\n",
    "                description='I${i}:',\n",
    "                disabled=False\n",
    "            ),  widgets.BoundedIntText(\n",
    "                value=1,\n",
    "                min=1,\n",
    "                step=1,\n",
    "                description='W${i}:',\n",
    "                disabled=False\n",
    "            ))) for i in range(0, change['new'])]\n",
    "#         print(inputs)\n",
    "        for x in inputs:\n",
    "#             print(x)\n",
    "#             print(type(x[0]))\n",
    "            display(widgets.HBox([x[0],x[1]]))"
   ]
  },
  {
   "cell_type": "code",
   "execution_count": 297,
   "metadata": {},
   "outputs": [
    {
     "data": {
      "application/vnd.jupyter.widget-view+json": {
       "model_id": "6b8561bc7851409d99e1242277e7cbd0",
       "version_major": 2,
       "version_minor": 0
      },
      "text/plain": [
       "BoundedIntText(value=1, description='Input:', max=1000, min=1)"
      ]
     },
     "metadata": {},
     "output_type": "display_data"
    },
    {
     "data": {
      "application/vnd.jupyter.widget-view+json": {
       "model_id": "5c5d0bf37acd4b37ade46c140660206f",
       "version_major": 2,
       "version_minor": 0
      },
      "text/plain": [
       "Output(layout=Layout(border='1px solid black', height='200px', overflow='auto'))"
      ]
     },
     "metadata": {},
     "output_type": "display_data"
    }
   ],
   "source": [
    "generate_intText = widgets.BoundedIntText(\n",
    "    value=1,\n",
    "    min=1,\n",
    "    max=1000,\n",
    "    step=1,\n",
    "    description='Input:',\n",
    "    disabled=False\n",
    ")\n",
    "display(generate_intText)\n",
    "\n",
    "generate_intText.observe(generate_on_value_change, 'value')\n",
    "out = widgets.Output(layout={'border': '1px solid black',\n",
    "                            'height': '200px',\n",
    "                            'overflow': 'auto'})\n",
    "out"
   ]
  },
  {
   "cell_type": "code",
   "execution_count": 302,
   "metadata": {},
   "outputs": [
    {
     "name": "stdout",
     "output_type": "stream",
     "text": [
      "[(BoundedIntText(value=2, description='I${i}:', min=1), BoundedIntText(value=2, description='W${i}:', min=1))]\n"
     ]
    }
   ],
   "source": [
    "print(inputs)"
   ]
  }
 ],
 "metadata": {
  "kernelspec": {
   "display_name": "Python 3",
   "language": "python",
   "name": "python3"
  },
  "language_info": {
   "codemirror_mode": {
    "name": "ipython",
    "version": 3
   },
   "file_extension": ".py",
   "mimetype": "text/x-python",
   "name": "python",
   "nbconvert_exporter": "python",
   "pygments_lexer": "ipython3",
   "version": "3.8.5"
  }
 },
 "nbformat": 4,
 "nbformat_minor": 4
}
